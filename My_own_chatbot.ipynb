{
  "nbformat": 4,
  "nbformat_minor": 0,
  "metadata": {
    "colab": {
      "name": "My own chatbot.ipynb",
      "provenance": [],
      "collapsed_sections": [],
      "authorship_tag": "ABX9TyN7I/h+3S6y8zMPy05Pz6EX",
      "include_colab_link": true
    },
    "kernelspec": {
      "name": "python3",
      "display_name": "Python 3"
    }
  },
  "cells": [
    {
      "cell_type": "markdown",
      "metadata": {
        "id": "view-in-github",
        "colab_type": "text"
      },
      "source": [
        "<a href=\"https://colab.research.google.com/github/revs1/Natural-Language-Processing/blob/master/My_own_chatbot.ipynb\" target=\"_parent\"><img src=\"https://colab.research.google.com/assets/colab-badge.svg\" alt=\"Open In Colab\"/></a>"
      ]
    },
    {
      "cell_type": "code",
      "metadata": {
        "id": "AxZf0NEDoQTO",
        "colab_type": "code",
        "colab": {
          "base_uri": "https://localhost:8080/",
          "height": 34
        },
        "outputId": "2b4146da-38d6-40a2-aa5c-55ab7741d82f"
      },
      "source": [
        "import numpy as np\n",
        "import gensim\n",
        "print(f\"Gensim version: {gensim.__version__}\")"
      ],
      "execution_count": 1,
      "outputs": [
        {
          "output_type": "stream",
          "text": [
            "Gensim version: 3.6.0\n"
          ],
          "name": "stdout"
        }
      ]
    },
    {
      "cell_type": "code",
      "metadata": {
        "id": "ShkYO3QSocfy",
        "colab_type": "code",
        "colab": {
          "base_uri": "https://localhost:8080/",
          "height": 34
        },
        "outputId": "40f6bda6-1dc8-4053-ef8d-3f00b19c51da"
      },
      "source": [
        "from tqdm import tqdm\n",
        "class TqdmUpTo(tqdm):\n",
        "    def update_to(self, b=1, bsize=1, tsize=None):\n",
        "        if tsize is not None: self.total = tsize\n",
        "        self.update(b * bsize - self.n)\n",
        "\n",
        "def get_data(url, filename):\n",
        "    \"\"\"\n",
        "    Download data if the filename does not exist already\n",
        "    Uses Tqdm to show download progress\n",
        "    \"\"\"\n",
        "    import os\n",
        "    from urllib.request import urlretrieve\n",
        "    \n",
        "    if not os.path.exists(filename):\n",
        "\n",
        "        dirname = os.path.dirname(filename)\n",
        "        if not os.path.exists(dirname):\n",
        "            os.makedirs(dirname)\n",
        "\n",
        "        with TqdmUpTo(unit='B', unit_scale=True, miniters=1, desc=url.split('/')[-1]) as t:\n",
        "            urlretrieve(url, filename, reporthook=t.update_to)\n",
        "    else:\n",
        "        print(\"File already exists, please remove if you wish to download again\")\n",
        "\n",
        "embedding_url = 'http://nlp.stanford.edu/data/glove.6B.zip'\n",
        "get_data(embedding_url, 'data/glove.6B.zip')"
      ],
      "execution_count": 2,
      "outputs": [
        {
          "output_type": "stream",
          "text": [
            "glove.6B.zip: 862MB [06:30, 2.21MB/s]                           \n"
          ],
          "name": "stderr"
        }
      ]
    },
    {
      "cell_type": "code",
      "metadata": {
        "id": "HV5cWd5LtC3l",
        "colab_type": "code",
        "colab": {
          "base_uri": "https://localhost:8080/",
          "height": 238
        },
        "outputId": "4ac008fb-e809-4dac-938f-e0b5b5fb1f88"
      },
      "source": [
        " !unzip data/glove.6B.zip \n",
        " !mv -v glove.6B.300d.txt data/glove.6B.300d.txt \n",
        " !mv -v glove.6B.200d.txt data/glove.6B.200d.txt \n",
        " !mv -v glove.6B.100d.txt data/glove.6B.100d.txt \n",
        " !mv -v glove.6B.50d.txt data/glove.6B.50d.txt "
      ],
      "execution_count": 14,
      "outputs": [
        {
          "output_type": "stream",
          "text": [
            "Archive:  data/glove.6B.zip\n",
            "replace glove.6B.50d.txt? [y]es, [n]o, [A]ll, [N]one, [r]ename: y\n",
            "  inflating: glove.6B.50d.txt        \n",
            "replace glove.6B.100d.txt? [y]es, [n]o, [A]ll, [N]one, [r]ename: y\n",
            "  inflating: glove.6B.100d.txt       \n",
            "replace glove.6B.200d.txt? [y]es, [n]o, [A]ll, [N]one, [r]ename: y\n",
            "  inflating: glove.6B.200d.txt       \n",
            "replace glove.6B.300d.txt? [y]es, [n]o, [A]ll, [N]one, [r]ename: y\n",
            "  inflating: glove.6B.300d.txt       \n",
            "renamed 'glove.6B.300d.txt' -> 'data/glove.6B.300d.txt'\n",
            "renamed 'glove.6B.200d.txt' -> 'data/glove.6B.200d.txt'\n",
            "renamed 'glove.6B.100d.txt' -> 'data/glove.6B.100d.txt'\n",
            "renamed 'glove.6B.50d.txt' -> 'data/glove.6B.50d.txt'\n"
          ],
          "name": "stdout"
        }
      ]
    },
    {
      "cell_type": "code",
      "metadata": {
        "id": "vl3J7ngfpBLG",
        "colab_type": "code",
        "colab": {
          "base_uri": "https://localhost:8080/",
          "height": 71
        },
        "outputId": "97ccef04-ced4-46ac-b71f-0645b5fd3b8a"
      },
      "source": [
        "from gensim.scripts.glove2word2vec import glove2word2vec\n",
        "glove_input_file = 'data/glove.6B.300d.txt'\n",
        "word2vec_output_file = 'data/glove.6B.300d.txt.word2vec'\n",
        "import os\n",
        "if not os.path.exists(word2vec_output_file):\n",
        "    glove2word2vec(glove_input_file, word2vec_output_file)"
      ],
      "execution_count": 16,
      "outputs": [
        {
          "output_type": "stream",
          "text": [
            "/usr/local/lib/python3.6/dist-packages/smart_open/smart_open_lib.py:253: UserWarning: This function is deprecated, use smart_open.open instead. See the migration notes for details: https://github.com/RaRe-Technologies/smart_open/blob/master/README.rst#migrating-to-the-new-open-function\n",
            "  'See the migration notes for details: %s' % _MIGRATION_NOTES_URL\n"
          ],
          "name": "stderr"
        }
      ]
    },
    {
      "cell_type": "code",
      "metadata": {
        "id": "9B7r_pk7qxBx",
        "colab_type": "code",
        "colab": {
          "base_uri": "https://localhost:8080/",
          "height": 105
        },
        "outputId": "22189976-2e8f-4748-d237-4c9b4451394f"
      },
      "source": [
        "\n",
        "%%time\n",
        "from gensim.models import KeyedVectors\n",
        "filename = word2vec_output_file\n",
        "embed = KeyedVectors.load_word2vec_format(word2vec_output_file, binary=False)"
      ],
      "execution_count": 17,
      "outputs": [
        {
          "output_type": "stream",
          "text": [
            "/usr/local/lib/python3.6/dist-packages/smart_open/smart_open_lib.py:253: UserWarning: This function is deprecated, use smart_open.open instead. See the migration notes for details: https://github.com/RaRe-Technologies/smart_open/blob/master/README.rst#migrating-to-the-new-open-function\n",
            "  'See the migration notes for details: %s' % _MIGRATION_NOTES_URL\n"
          ],
          "name": "stderr"
        },
        {
          "output_type": "stream",
          "text": [
            "CPU times: user 1min 55s, sys: 741 ms, total: 1min 56s\n",
            "Wall time: 1min 56s\n"
          ],
          "name": "stdout"
        }
      ]
    },
    {
      "cell_type": "code",
      "metadata": {
        "id": "yrAX3HCeve66",
        "colab_type": "code",
        "colab": {}
      },
      "source": [
        "assert embed['awesome'] is not None"
      ],
      "execution_count": 0,
      "outputs": []
    },
    {
      "cell_type": "code",
      "metadata": {
        "id": "5qZet3PIv_l0",
        "colab_type": "code",
        "colab": {}
      },
      "source": [
        "\n",
        "cuisine_refs = [\"mexican\", \"thai\", \"british\", \"american\", \"italian\"]\n",
        "sample_sentence = \"I’m looking for a cheap Indian or Chinese place in Indiranagar\""
      ],
      "execution_count": 0,
      "outputs": []
    },
    {
      "cell_type": "code",
      "metadata": {
        "id": "i0jvn9HZwHbB",
        "colab_type": "code",
        "colab": {
          "base_uri": "https://localhost:8080/",
          "height": 187
        },
        "outputId": "3674417b-bfa4-4bb6-b7ae-5c82d6e8ff18"
      },
      "source": [
        "tokens = sample_sentence.split()\n",
        "tokens = [x.lower().strip() for x in tokens] \n",
        "threshold = 18.3\n",
        "found = []\n",
        "for term in tokens:\n",
        "    if term in embed.vocab:\n",
        "        scores = []\n",
        "        for C in cuisine_refs:\n",
        "            scores.append(np.dot(embed[C], embed[term].T))\n",
        "            # hint replace above above np.dot with: \n",
        "            # scores.append(embed.cosine_similarities(<vector1>, <vector_all_others>))\n",
        "        mean_score = np.mean(scores)\n",
        "        print(f\"{term}: {mean_score}\")\n",
        "        if mean_score > threshold:\n",
        "            found.append(term)\n",
        "print(found)"
      ],
      "execution_count": 20,
      "outputs": [
        {
          "output_type": "stream",
          "text": [
            "looking: 7.448504447937012\n",
            "for: 10.627421379089355\n",
            "a: 11.809560775756836\n",
            "cheap: 7.09670877456665\n",
            "indian: 18.64516258239746\n",
            "or: 9.692893981933594\n",
            "chinese: 19.09498405456543\n",
            "place: 7.651237487792969\n",
            "in: 10.085711479187012\n",
            "['indian', 'chinese']\n"
          ],
          "name": "stdout"
        }
      ]
    },
    {
      "cell_type": "code",
      "metadata": {
        "id": "Yne8i2OKwKS6",
        "colab_type": "code",
        "colab": {
          "base_uri": "https://localhost:8080/",
          "height": 34
        },
        "outputId": "b4c23dcb-3f64-487e-cce1-d5bf780742e7"
      },
      "source": [
        "\n",
        "def sum_vecs(embed,text):\n",
        "\n",
        "    tokens = text.split(' ')\n",
        "    vec = np.zeros(embed.vector_size)\n",
        "\n",
        "    for idx, term in enumerate(tokens):\n",
        "        if term in embed.vocab:\n",
        "            vec = vec + embed[term]\n",
        "    return vec\n",
        "\n",
        "sentence_vector = sum_vecs(embed, sample_sentence)\n",
        "print(sentence_vector.shape)"
      ],
      "execution_count": 21,
      "outputs": [
        {
          "output_type": "stream",
          "text": [
            "(300,)\n"
          ],
          "name": "stdout"
        }
      ]
    },
    {
      "cell_type": "code",
      "metadata": {
        "id": "X04FhSxewPXC",
        "colab_type": "code",
        "colab": {}
      },
      "source": [
        "data={\n",
        "  \"greet\": {\n",
        "    \"examples\" : [\"hello\",\"hey there\",\"howdy\",\"hello\",\"hi\",\"hey\",\"hey ho\"],\n",
        "    \"centroid\" : None\n",
        "  },\n",
        "  \"inform\": {\n",
        "    \"examples\" : [\n",
        "        \"i'd like something asian\",\n",
        "        \"maybe korean\",\n",
        "        \"what mexican options do i have\",\n",
        "        \"what italian options do i have\",\n",
        "        \"i want korean food\",\n",
        "        \"i want german food\",\n",
        "        \"i want vegetarian food\",\n",
        "        \"i would like chinese food\",\n",
        "        \"i would like indian food\",\n",
        "        \"what japanese options do i have\",\n",
        "        \"korean please\",\n",
        "        \"what about indian\",\n",
        "        \"i want some chicken\",\n",
        "        \"maybe thai\",\n",
        "        \"i'd like something vegetarian\",\n",
        "        \"show me french restaurants\",\n",
        "        \"show me a cool malaysian spot\",\n",
        "        \"where can I get some spicy food\"\n",
        "    ],\n",
        "    \"centroid\" : None\n",
        "  },\n",
        "  \"deny\": {\n",
        "    \"examples\" : [\n",
        "      \"nah\",\n",
        "      \"any other places ?\",\n",
        "      \"anything else\",\n",
        "      \"no thanks\"\n",
        "      \"not that one\",\n",
        "      \"i do not like that place\",\n",
        "      \"something else please\",\n",
        "      \"no please show other options\"\n",
        "    ],\n",
        "    \"centroid\" : None\n",
        "  },\n",
        "    \"affirm\":{\n",
        "        \"examples\":[\n",
        "            \"yeah\",\n",
        "            \"that works\",\n",
        "            \"good, thanks\",\n",
        "            \"this works\",\n",
        "            \"sounds good\",\n",
        "            \"thanks, this is perfect\",\n",
        "            \"just what I wanted\"\n",
        "        ],\n",
        "        \"centroid\": None\n",
        "    }\n",
        "\n",
        "}"
      ],
      "execution_count": 0,
      "outputs": []
    },
    {
      "cell_type": "code",
      "metadata": {
        "id": "3wprBsEwwVyH",
        "colab_type": "code",
        "colab": {}
      },
      "source": [
        "def get_centroid(embed, examples):\n",
        "    C = np.zeros((len(examples),embed.vector_size))\n",
        "    for idx, text in enumerate(examples):\n",
        "        C[idx,:] = sum_vecs(embed,text)\n",
        "\n",
        "    centroid = np.mean(C,axis=0)\n",
        "    assert centroid.shape[0] == embed.vector_size\n",
        "    return centroid"
      ],
      "execution_count": 0,
      "outputs": []
    },
    {
      "cell_type": "code",
      "metadata": {
        "id": "HhkcdmT2wZ0w",
        "colab_type": "code",
        "colab": {}
      },
      "source": [
        "# Adding Centroid to data dictionary\n",
        "for label in data.keys():\n",
        "    data[label][\"centroid\"] = get_centroid(embed,data[label][\"examples\"])"
      ],
      "execution_count": 0,
      "outputs": []
    },
    {
      "cell_type": "code",
      "metadata": {
        "id": "Ef7jsLXLweHW",
        "colab_type": "code",
        "colab": {
          "base_uri": "https://localhost:8080/",
          "height": 105
        },
        "outputId": "74cafcc8-b1f1-4d58-a10b-b1605fa2eab8"
      },
      "source": [
        "for label in data.keys():\n",
        "    print(f\"{label}: {data[label]['examples']}\")"
      ],
      "execution_count": 25,
      "outputs": [
        {
          "output_type": "stream",
          "text": [
            "greet: ['hello', 'hey there', 'howdy', 'hello', 'hi', 'hey', 'hey ho']\n",
            "inform: [\"i'd like something asian\", 'maybe korean', 'what mexican options do i have', 'what italian options do i have', 'i want korean food', 'i want german food', 'i want vegetarian food', 'i would like chinese food', 'i would like indian food', 'what japanese options do i have', 'korean please', 'what about indian', 'i want some chicken', 'maybe thai', \"i'd like something vegetarian\", 'show me french restaurants', 'show me a cool malaysian spot', 'where can I get some spicy food']\n",
            "deny: ['nah', 'any other places ?', 'anything else', 'no thanksnot that one', 'i do not like that place', 'something else please', 'no please show other options']\n",
            "affirm: ['yeah', 'that works', 'good, thanks', 'this works', 'sounds good', 'thanks, this is perfect', 'just what I wanted']\n"
          ],
          "name": "stdout"
        }
      ]
    },
    {
      "cell_type": "code",
      "metadata": {
        "id": "tIgoMTkewgyA",
        "colab_type": "code",
        "colab": {}
      },
      "source": [
        "def get_intent(embed,data, text):\n",
        "    intents = list(data.keys())\n",
        "    vec = sum_vecs(embed,text)\n",
        "    scores = np.array([ np.linalg.norm(vec-data[label][\"centroid\"]) for label in intents])\n",
        "    return intents[np.argmin(scores)]"
      ],
      "execution_count": 0,
      "outputs": []
    },
    {
      "cell_type": "code",
      "metadata": {
        "id": "8bQVVQ3Bwm88",
        "colab_type": "code",
        "colab": {
          "base_uri": "https://localhost:8080/",
          "height": 85
        },
        "outputId": "37b4acf6-d553-4d1c-92e9-5fb250f7de75"
      },
      "source": [
        "for text in [\"hey \",\"i am looking for chinese food\",\"not for me\", \"ok, this is good\"]:\n",
        "    print(f\"text : '{text}', predicted_label : '{get_intent(embed, data, text)}'\")"
      ],
      "execution_count": 27,
      "outputs": [
        {
          "output_type": "stream",
          "text": [
            "text : 'hey ', predicted_label : 'greet'\n",
            "text : 'i am looking for chinese food', predicted_label : 'inform'\n",
            "text : 'not for me', predicted_label : 'deny'\n",
            "text : 'ok, this is good', predicted_label : 'affirm'\n"
          ],
          "name": "stdout"
        }
      ]
    },
    {
      "cell_type": "code",
      "metadata": {
        "id": "Y5C8UZntwrBC",
        "colab_type": "code",
        "colab": {}
      },
      "source": [
        "templates = {\n",
        "        \"utter_greet\": [\"hey there!\", \"Hey! How you doin'? \"],\n",
        "        \"utter_options\": [\"ok, let me check some more\"],\n",
        "        \"utter_goodbye\": [\"Great, I'll go now. Bye bye\", \"bye bye\", \"Goodbye!\"],\n",
        "        \"utter_default\": [\"Sorry, I didn't quite follow\"],\n",
        "        \"utter_confirm\": [\"Got it\", \"Gotcha\", \"Your order is confirmed now\"]\n",
        "    }"
      ],
      "execution_count": 0,
      "outputs": []
    },
    {
      "cell_type": "code",
      "metadata": {
        "id": "yArNgn6Mw3T-",
        "colab_type": "code",
        "colab": {}
      },
      "source": [
        "response_map = {\n",
        "    \"greet\": \"utter_greet\",\n",
        "    \"affirm\": \"utter_goodbye\",\n",
        "    \"deny\": \"utter_options\",\n",
        "    \"inform\": \"utter_confirm\",\n",
        "    \"default\": \"utter_default\",\n",
        "}"
      ],
      "execution_count": 0,
      "outputs": []
    },
    {
      "cell_type": "code",
      "metadata": {
        "id": "a0jxzNBJw8UJ",
        "colab_type": "code",
        "colab": {}
      },
      "source": [
        "import random\n",
        "def get_bot_response(bot_response_map, bot_templates, intent):\n",
        "    if intent not in list(response_map):\n",
        "        intent = \"default\"\n",
        "    select_template = bot_response_map[intent]\n",
        "    templates = bot_templates[select_template]\n",
        "    return random.choice(templates)"
      ],
      "execution_count": 0,
      "outputs": []
    },
    {
      "cell_type": "code",
      "metadata": {
        "id": "Ye4zyRXzw__u",
        "colab_type": "code",
        "colab": {
          "base_uri": "https://localhost:8080/",
          "height": 34
        },
        "outputId": "27d60412-d9e8-405c-9b62-22c705745776"
      },
      "source": [
        "\n",
        "user_intent = get_intent(embed, data, \"i want indian food\")\n",
        "get_bot_response(response_map, templates, user_intent)"
      ],
      "execution_count": 31,
      "outputs": [
        {
          "output_type": "execute_result",
          "data": {
            "text/plain": [
              "'Gotcha'"
            ]
          },
          "metadata": {
            "tags": []
          },
          "execution_count": 31
        }
      ]
    },
    {
      "cell_type": "code",
      "metadata": {
        "id": "DQm2cH7HxDn4",
        "colab_type": "code",
        "colab": {
          "base_uri": "https://localhost:8080/",
          "height": 85
        },
        "outputId": "2ce80bd7-ac21-4411-c2f2-8d2ff354b073"
      },
      "source": [
        "for text in [\"hey\",\"i am looking for italian food\",\"not for me\", \"ok, this is good\"]:\n",
        "    user_intent = get_intent(embed, data, text)\n",
        "    bot_reply = get_bot_response(response_map, templates, user_intent)\n",
        "    print(f\"text : '{text}', intent: {user_intent}, bot: {bot_reply}\")"
      ],
      "execution_count": 32,
      "outputs": [
        {
          "output_type": "stream",
          "text": [
            "text : 'hey', intent: greet, bot: Hey! How you doin'? \n",
            "text : 'i am looking for italian food', intent: inform, bot: Gotcha\n",
            "text : 'not for me', intent: deny, bot: ok, let me check some more\n",
            "text : 'ok, this is good', intent: affirm, bot: Great, I'll go now. Bye bye\n"
          ],
          "name": "stdout"
        }
      ]
    },
    {
      "cell_type": "code",
      "metadata": {
        "id": "tqb9Yu6kxJGE",
        "colab_type": "code",
        "colab": {}
      },
      "source": [
        ""
      ],
      "execution_count": 0,
      "outputs": []
    }
  ]
}